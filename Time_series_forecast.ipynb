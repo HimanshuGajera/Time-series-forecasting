{
  "nbformat": 4,
  "nbformat_minor": 0,
  "metadata": {
    "colab": {
      "name": "Time_series_forecast.ipynb",
      "provenance": []
    },
    "kernelspec": {
      "name": "python3",
      "display_name": "Python 3"
    },
    "accelerator": "GPU"
  },
  "cells": [
    {
      "cell_type": "code",
      "metadata": {
        "id": "_HSjLD_jQEvY",
        "colab_type": "code",
        "colab": {}
      },
      "source": [
        "import pandas as pd\n",
        "import numpy as np\n",
        "from keras.models import Sequential\n",
        "from datetime import datetime\n",
        "from keras.layers.recurrent import LSTM\n",
        "from keras.layers import Activation, Dense\n",
        "from keras.losses import mean_squared_error\n"
      ],
      "execution_count": 721,
      "outputs": []
    },
    {
      "cell_type": "code",
      "metadata": {
        "id": "SMZNSfF5QbIE",
        "colab_type": "code",
        "colab": {}
      },
      "source": [
        "df = pd.read_csv('/content/train.csv')\n",
        "df['time'] = pd.to_datetime(df['time'])\n",
        "df['time'] = df['time'].dt.time"
      ],
      "execution_count": 722,
      "outputs": []
    },
    {
      "cell_type": "code",
      "metadata": {
        "id": "wUkBvkSGQitG",
        "colab_type": "code",
        "colab": {
          "base_uri": "https://localhost:8080/",
          "height": 34
        },
        "outputId": "70705bf9-d576-43da-f1bc-9491f68a906b"
      },
      "source": [
        "new_time = df['time'].astype(str)\n",
        "time = new_time\n",
        "t = time.values.reshape(-1,1)\n",
        "t = t.reshape(564,1)\n",
        "type(t)"
      ],
      "execution_count": 723,
      "outputs": [
        {
          "output_type": "execute_result",
          "data": {
            "text/plain": [
              "numpy.ndarray"
            ]
          },
          "metadata": {
            "tags": []
          },
          "execution_count": 723
        }
      ]
    },
    {
      "cell_type": "code",
      "metadata": {
        "id": "rJ5NLXWuQ7Dd",
        "colab_type": "code",
        "colab": {}
      },
      "source": [
        "P = time.astype(str)\n",
        "for i in range(0,564):\n",
        "  s = P[i]\n",
        "  U = s.replace('-', '').replace(':', '') \n",
        "  P[i] = U\n",
        "\n",
        "P = P.astype(str)\n",
        "df['time'] = P\n",
        "df['time'] = df.time.astype(int)"
      ],
      "execution_count": 724,
      "outputs": []
    },
    {
      "cell_type": "code",
      "metadata": {
        "id": "mTNhleURRBoo",
        "colab_type": "code",
        "colab": {
          "base_uri": "https://localhost:8080/",
          "height": 102
        },
        "outputId": "40a80328-630b-46d6-c454-146e6b7abd2e"
      },
      "source": [
        "df.dtypes"
      ],
      "execution_count": 725,
      "outputs": [
        {
          "output_type": "execute_result",
          "data": {
            "text/plain": [
              "id             int64\n",
              "time           int64\n",
              "feature_1    float64\n",
              "feature_2    float64\n",
              "dtype: object"
            ]
          },
          "metadata": {
            "tags": []
          },
          "execution_count": 725
        }
      ]
    },
    {
      "cell_type": "code",
      "metadata": {
        "id": "Hasj-MuBRGh-",
        "colab_type": "code",
        "colab": {
          "base_uri": "https://localhost:8080/",
          "height": 419
        },
        "outputId": "c2b4ed1b-bc1b-4051-d0aa-3ca71f5eac10"
      },
      "source": [
        "df"
      ],
      "execution_count": 726,
      "outputs": [
        {
          "output_type": "execute_result",
          "data": {
            "text/html": [
              "<div>\n",
              "<style scoped>\n",
              "    .dataframe tbody tr th:only-of-type {\n",
              "        vertical-align: middle;\n",
              "    }\n",
              "\n",
              "    .dataframe tbody tr th {\n",
              "        vertical-align: top;\n",
              "    }\n",
              "\n",
              "    .dataframe thead th {\n",
              "        text-align: right;\n",
              "    }\n",
              "</style>\n",
              "<table border=\"1\" class=\"dataframe\">\n",
              "  <thead>\n",
              "    <tr style=\"text-align: right;\">\n",
              "      <th></th>\n",
              "      <th>id</th>\n",
              "      <th>time</th>\n",
              "      <th>feature_1</th>\n",
              "      <th>feature_2</th>\n",
              "    </tr>\n",
              "  </thead>\n",
              "  <tbody>\n",
              "    <tr>\n",
              "      <th>0</th>\n",
              "      <td>0</td>\n",
              "      <td>0</td>\n",
              "      <td>735.740043</td>\n",
              "      <td>54479.540513</td>\n",
              "    </tr>\n",
              "    <tr>\n",
              "      <th>1</th>\n",
              "      <td>1</td>\n",
              "      <td>10</td>\n",
              "      <td>734.102947</td>\n",
              "      <td>47888.033714</td>\n",
              "    </tr>\n",
              "    <tr>\n",
              "      <th>2</th>\n",
              "      <td>2</td>\n",
              "      <td>20</td>\n",
              "      <td>730.060336</td>\n",
              "      <td>47700.882325</td>\n",
              "    </tr>\n",
              "    <tr>\n",
              "      <th>3</th>\n",
              "      <td>3</td>\n",
              "      <td>30</td>\n",
              "      <td>725.609742</td>\n",
              "      <td>47790.094648</td>\n",
              "    </tr>\n",
              "    <tr>\n",
              "      <th>4</th>\n",
              "      <td>4</td>\n",
              "      <td>40</td>\n",
              "      <td>724.328480</td>\n",
              "      <td>47808.402381</td>\n",
              "    </tr>\n",
              "    <tr>\n",
              "      <th>...</th>\n",
              "      <td>...</td>\n",
              "      <td>...</td>\n",
              "      <td>...</td>\n",
              "      <td>...</td>\n",
              "    </tr>\n",
              "    <tr>\n",
              "      <th>559</th>\n",
              "      <td>559</td>\n",
              "      <td>13310</td>\n",
              "      <td>423.726707</td>\n",
              "      <td>54115.388787</td>\n",
              "    </tr>\n",
              "    <tr>\n",
              "      <th>560</th>\n",
              "      <td>560</td>\n",
              "      <td>13320</td>\n",
              "      <td>424.278568</td>\n",
              "      <td>54127.830664</td>\n",
              "    </tr>\n",
              "    <tr>\n",
              "      <th>561</th>\n",
              "      <td>561</td>\n",
              "      <td>13330</td>\n",
              "      <td>420.127639</td>\n",
              "      <td>54092.561194</td>\n",
              "    </tr>\n",
              "    <tr>\n",
              "      <th>562</th>\n",
              "      <td>562</td>\n",
              "      <td>13340</td>\n",
              "      <td>421.291993</td>\n",
              "      <td>53994.714950</td>\n",
              "    </tr>\n",
              "    <tr>\n",
              "      <th>563</th>\n",
              "      <td>563</td>\n",
              "      <td>13350</td>\n",
              "      <td>423.257581</td>\n",
              "      <td>53863.615475</td>\n",
              "    </tr>\n",
              "  </tbody>\n",
              "</table>\n",
              "<p>564 rows × 4 columns</p>\n",
              "</div>"
            ],
            "text/plain": [
              "      id   time   feature_1     feature_2\n",
              "0      0      0  735.740043  54479.540513\n",
              "1      1     10  734.102947  47888.033714\n",
              "2      2     20  730.060336  47700.882325\n",
              "3      3     30  725.609742  47790.094648\n",
              "4      4     40  724.328480  47808.402381\n",
              "..   ...    ...         ...           ...\n",
              "559  559  13310  423.726707  54115.388787\n",
              "560  560  13320  424.278568  54127.830664\n",
              "561  561  13330  420.127639  54092.561194\n",
              "562  562  13340  421.291993  53994.714950\n",
              "563  563  13350  423.257581  53863.615475\n",
              "\n",
              "[564 rows x 4 columns]"
            ]
          },
          "metadata": {
            "tags": []
          },
          "execution_count": 726
        }
      ]
    },
    {
      "cell_type": "code",
      "metadata": {
        "id": "CJxW10okRNGL",
        "colab_type": "code",
        "colab": {}
      },
      "source": [
        "a = df['feature_1'].mean()\n",
        "b = df['feature_2'].mean()\n",
        "df['feature_1'] = df['feature_1'] / df['feature_1'].mean()\n",
        "df['feature_2'] = df['feature_2'] / df['feature_2'].mean()"
      ],
      "execution_count": 727,
      "outputs": []
    },
    {
      "cell_type": "code",
      "metadata": {
        "id": "wSztMgUjRQIa",
        "colab_type": "code",
        "colab": {
          "base_uri": "https://localhost:8080/",
          "height": 419
        },
        "outputId": "579397e7-e785-48de-d848-03b67d3f7137"
      },
      "source": [
        "df"
      ],
      "execution_count": 728,
      "outputs": [
        {
          "output_type": "execute_result",
          "data": {
            "text/html": [
              "<div>\n",
              "<style scoped>\n",
              "    .dataframe tbody tr th:only-of-type {\n",
              "        vertical-align: middle;\n",
              "    }\n",
              "\n",
              "    .dataframe tbody tr th {\n",
              "        vertical-align: top;\n",
              "    }\n",
              "\n",
              "    .dataframe thead th {\n",
              "        text-align: right;\n",
              "    }\n",
              "</style>\n",
              "<table border=\"1\" class=\"dataframe\">\n",
              "  <thead>\n",
              "    <tr style=\"text-align: right;\">\n",
              "      <th></th>\n",
              "      <th>id</th>\n",
              "      <th>time</th>\n",
              "      <th>feature_1</th>\n",
              "      <th>feature_2</th>\n",
              "    </tr>\n",
              "  </thead>\n",
              "  <tbody>\n",
              "    <tr>\n",
              "      <th>0</th>\n",
              "      <td>0</td>\n",
              "      <td>0</td>\n",
              "      <td>1.404741</td>\n",
              "      <td>1.037954</td>\n",
              "    </tr>\n",
              "    <tr>\n",
              "      <th>1</th>\n",
              "      <td>1</td>\n",
              "      <td>10</td>\n",
              "      <td>1.401615</td>\n",
              "      <td>0.912372</td>\n",
              "    </tr>\n",
              "    <tr>\n",
              "      <th>2</th>\n",
              "      <td>2</td>\n",
              "      <td>20</td>\n",
              "      <td>1.393897</td>\n",
              "      <td>0.908806</td>\n",
              "    </tr>\n",
              "    <tr>\n",
              "      <th>3</th>\n",
              "      <td>3</td>\n",
              "      <td>30</td>\n",
              "      <td>1.385399</td>\n",
              "      <td>0.910506</td>\n",
              "    </tr>\n",
              "    <tr>\n",
              "      <th>4</th>\n",
              "      <td>4</td>\n",
              "      <td>40</td>\n",
              "      <td>1.382953</td>\n",
              "      <td>0.910854</td>\n",
              "    </tr>\n",
              "    <tr>\n",
              "      <th>...</th>\n",
              "      <td>...</td>\n",
              "      <td>...</td>\n",
              "      <td>...</td>\n",
              "      <td>...</td>\n",
              "    </tr>\n",
              "    <tr>\n",
              "      <th>559</th>\n",
              "      <td>559</td>\n",
              "      <td>13310</td>\n",
              "      <td>0.809017</td>\n",
              "      <td>1.031016</td>\n",
              "    </tr>\n",
              "    <tr>\n",
              "      <th>560</th>\n",
              "      <td>560</td>\n",
              "      <td>13320</td>\n",
              "      <td>0.810071</td>\n",
              "      <td>1.031253</td>\n",
              "    </tr>\n",
              "    <tr>\n",
              "      <th>561</th>\n",
              "      <td>561</td>\n",
              "      <td>13330</td>\n",
              "      <td>0.802146</td>\n",
              "      <td>1.030581</td>\n",
              "    </tr>\n",
              "    <tr>\n",
              "      <th>562</th>\n",
              "      <td>562</td>\n",
              "      <td>13340</td>\n",
              "      <td>0.804369</td>\n",
              "      <td>1.028717</td>\n",
              "    </tr>\n",
              "    <tr>\n",
              "      <th>563</th>\n",
              "      <td>563</td>\n",
              "      <td>13350</td>\n",
              "      <td>0.808121</td>\n",
              "      <td>1.026219</td>\n",
              "    </tr>\n",
              "  </tbody>\n",
              "</table>\n",
              "<p>564 rows × 4 columns</p>\n",
              "</div>"
            ],
            "text/plain": [
              "      id   time  feature_1  feature_2\n",
              "0      0      0   1.404741   1.037954\n",
              "1      1     10   1.401615   0.912372\n",
              "2      2     20   1.393897   0.908806\n",
              "3      3     30   1.385399   0.910506\n",
              "4      4     40   1.382953   0.910854\n",
              "..   ...    ...        ...        ...\n",
              "559  559  13310   0.809017   1.031016\n",
              "560  560  13320   0.810071   1.031253\n",
              "561  561  13330   0.802146   1.030581\n",
              "562  562  13340   0.804369   1.028717\n",
              "563  563  13350   0.808121   1.026219\n",
              "\n",
              "[564 rows x 4 columns]"
            ]
          },
          "metadata": {
            "tags": []
          },
          "execution_count": 728
        }
      ]
    },
    {
      "cell_type": "code",
      "metadata": {
        "id": "3cXlDReqRS_z",
        "colab_type": "code",
        "colab": {}
      },
      "source": [
        "x_train = df.iloc[:,1:3].values\n",
        "y_train = df.iloc[:,3].values"
      ],
      "execution_count": 729,
      "outputs": []
    },
    {
      "cell_type": "code",
      "metadata": {
        "id": "an2lBiEfRVIo",
        "colab_type": "code",
        "colab": {}
      },
      "source": [
        "x_train = x_train.reshape(564,1,2)\n",
        "y_train = y_train.reshape(564, 1)"
      ],
      "execution_count": 730,
      "outputs": []
    },
    {
      "cell_type": "code",
      "metadata": {
        "id": "lZCnBfvzRX5E",
        "colab_type": "code",
        "colab": {
          "base_uri": "https://localhost:8080/",
          "height": 306
        },
        "outputId": "bf7daa9d-727e-448f-df33-95e230b2489b"
      },
      "source": [
        "import keras \n",
        "from keras.layers import LSTM\n",
        "from keras.layers import Dense, Dropout, GRU, Bidirectional\n",
        "from keras.models import Sequential\n",
        "\n",
        "model = Sequential()\n",
        "model.add(LSTM(64, activation='relu', input_shape=(1,2) ))\n",
        "model.add(Dense(32))\n",
        "model.add(Dense(16))\n",
        "model.add(Dense(1))\n",
        "model.compile(loss = 'mean_squared_error', optimizer = 'adam')\n",
        "print(model.summary())"
      ],
      "execution_count": 731,
      "outputs": [
        {
          "output_type": "stream",
          "text": [
            "Model: \"sequential_37\"\n",
            "_________________________________________________________________\n",
            "Layer (type)                 Output Shape              Param #   \n",
            "=================================================================\n",
            "lstm_37 (LSTM)               (None, 64)                17152     \n",
            "_________________________________________________________________\n",
            "dense_109 (Dense)            (None, 32)                2080      \n",
            "_________________________________________________________________\n",
            "dense_110 (Dense)            (None, 16)                528       \n",
            "_________________________________________________________________\n",
            "dense_111 (Dense)            (None, 1)                 17        \n",
            "=================================================================\n",
            "Total params: 19,777\n",
            "Trainable params: 19,777\n",
            "Non-trainable params: 0\n",
            "_________________________________________________________________\n",
            "None\n"
          ],
          "name": "stdout"
        }
      ]
    },
    {
      "cell_type": "code",
      "metadata": {
        "id": "ubaXJ9laRb5l",
        "colab_type": "code",
        "colab": {
          "base_uri": "https://localhost:8080/",
          "height": 391
        },
        "outputId": "0f17874b-ab21-4d21-f80c-13b8ed80e632"
      },
      "source": [
        "history = model.fit(x_train, y_train, epochs = 10)\n",
        "model.evaluate(x_train,y_train)"
      ],
      "execution_count": 745,
      "outputs": [
        {
          "output_type": "stream",
          "text": [
            "Epoch 1/10\n",
            "564/564 [==============================] - 0s 275us/step - loss: 0.2411\n",
            "Epoch 2/10\n",
            "564/564 [==============================] - 0s 242us/step - loss: 0.2071\n",
            "Epoch 3/10\n",
            "564/564 [==============================] - 0s 241us/step - loss: 0.2166\n",
            "Epoch 4/10\n",
            "564/564 [==============================] - 0s 374us/step - loss: 0.1798\n",
            "Epoch 5/10\n",
            "564/564 [==============================] - 0s 251us/step - loss: 0.1759\n",
            "Epoch 6/10\n",
            "564/564 [==============================] - 0s 296us/step - loss: 0.1580\n",
            "Epoch 7/10\n",
            "564/564 [==============================] - 0s 265us/step - loss: 0.1761\n",
            "Epoch 8/10\n",
            "564/564 [==============================] - 0s 249us/step - loss: 0.1628\n",
            "Epoch 9/10\n",
            "564/564 [==============================] - 0s 252us/step - loss: 0.1692\n",
            "Epoch 10/10\n",
            "564/564 [==============================] - 0s 235us/step - loss: 0.1813\n",
            "564/564 [==============================] - 0s 67us/step\n"
          ],
          "name": "stdout"
        },
        {
          "output_type": "execute_result",
          "data": {
            "text/plain": [
              "0.14745844879471665"
            ]
          },
          "metadata": {
            "tags": []
          },
          "execution_count": 745
        }
      ]
    },
    {
      "cell_type": "code",
      "metadata": {
        "id": "CAXctE5HRgui",
        "colab_type": "code",
        "colab": {
          "base_uri": "https://localhost:8080/",
          "height": 295
        },
        "outputId": "6de64718-1bfa-473e-d517-f4c5eee1ec87"
      },
      "source": [
        "import matplotlib.pyplot as plt\n",
        "# summarize history for loss\n",
        "plt.plot(history.history['loss'])\n",
        "plt.title('model loss')\n",
        "plt.ylabel('loss')\n",
        "plt.xlabel('epoch')\n",
        "plt.legend(['train', 'test'], loc='upper left')\n",
        "plt.show()"
      ],
      "execution_count": 746,
      "outputs": [
        {
          "output_type": "display_data",
          "data": {
            "image/png": "[encoded data removed]",
            "text/plain": [
              "<Figure size 432x288 with 1 Axes>"
            ]
          },
          "metadata": {
            "tags": [],
            "needs_background": "light"
          }
        }
      ]
    },
    {
      "cell_type": "code",
      "metadata": {
        "id": "HTotD26BRl5r",
        "colab_type": "code",
        "colab": {
          "base_uri": "https://localhost:8080/",
          "height": 419
        },
        "outputId": "7b25c89e-93bb-4c16-f037-808d2ebac05b"
      },
      "source": [
        "df_test = pd.read_csv('/content/test.csv')\n",
        "df_test"
      ],
      "execution_count": 747,
      "outputs": [
        {
          "output_type": "execute_result",
          "data": {
            "text/html": [
              "<div>\n",
              "<style scoped>\n",
              "    .dataframe tbody tr th:only-of-type {\n",
              "        vertical-align: middle;\n",
              "    }\n",
              "\n",
              "    .dataframe tbody tr th {\n",
              "        vertical-align: top;\n",
              "    }\n",
              "\n",
              "    .dataframe thead th {\n",
              "        text-align: right;\n",
              "    }\n",
              "</style>\n",
              "<table border=\"1\" class=\"dataframe\">\n",
              "  <thead>\n",
              "    <tr style=\"text-align: right;\">\n",
              "      <th></th>\n",
              "      <th>id</th>\n",
              "      <th>time</th>\n",
              "      <th>feature_1</th>\n",
              "    </tr>\n",
              "  </thead>\n",
              "  <tbody>\n",
              "    <tr>\n",
              "      <th>0</th>\n",
              "      <td>564</td>\n",
              "      <td>2019-03-19 01:34:00</td>\n",
              "      <td>423.064004</td>\n",
              "    </tr>\n",
              "    <tr>\n",
              "      <th>1</th>\n",
              "      <td>565</td>\n",
              "      <td>2019-03-19 01:34:10</td>\n",
              "      <td>423.342749</td>\n",
              "    </tr>\n",
              "    <tr>\n",
              "      <th>2</th>\n",
              "      <td>566</td>\n",
              "      <td>2019-03-19 01:34:20</td>\n",
              "      <td>423.181186</td>\n",
              "    </tr>\n",
              "    <tr>\n",
              "      <th>3</th>\n",
              "      <td>567</td>\n",
              "      <td>2019-03-19 01:34:30</td>\n",
              "      <td>421.275243</td>\n",
              "    </tr>\n",
              "    <tr>\n",
              "      <th>4</th>\n",
              "      <td>568</td>\n",
              "      <td>2019-03-19 01:34:40</td>\n",
              "      <td>422.208444</td>\n",
              "    </tr>\n",
              "    <tr>\n",
              "      <th>...</th>\n",
              "      <td>...</td>\n",
              "      <td>...</td>\n",
              "      <td>...</td>\n",
              "    </tr>\n",
              "    <tr>\n",
              "      <th>370</th>\n",
              "      <td>934</td>\n",
              "      <td>2019-03-19 02:35:40</td>\n",
              "      <td>432.292203</td>\n",
              "    </tr>\n",
              "    <tr>\n",
              "      <th>371</th>\n",
              "      <td>935</td>\n",
              "      <td>2019-03-19 02:35:50</td>\n",
              "      <td>433.661272</td>\n",
              "    </tr>\n",
              "    <tr>\n",
              "      <th>372</th>\n",
              "      <td>936</td>\n",
              "      <td>2019-03-19 02:36:00</td>\n",
              "      <td>435.686429</td>\n",
              "    </tr>\n",
              "    <tr>\n",
              "      <th>373</th>\n",
              "      <td>937</td>\n",
              "      <td>2019-03-19 02:36:10</td>\n",
              "      <td>444.585521</td>\n",
              "    </tr>\n",
              "    <tr>\n",
              "      <th>374</th>\n",
              "      <td>938</td>\n",
              "      <td>2019-03-19 02:36:20</td>\n",
              "      <td>450.836415</td>\n",
              "    </tr>\n",
              "  </tbody>\n",
              "</table>\n",
              "<p>375 rows × 3 columns</p>\n",
              "</div>"
            ],
            "text/plain": [
              "      id                 time   feature_1\n",
              "0    564  2019-03-19 01:34:00  423.064004\n",
              "1    565  2019-03-19 01:34:10  423.342749\n",
              "2    566  2019-03-19 01:34:20  423.181186\n",
              "3    567  2019-03-19 01:34:30  421.275243\n",
              "4    568  2019-03-19 01:34:40  422.208444\n",
              "..   ...                  ...         ...\n",
              "370  934  2019-03-19 02:35:40  432.292203\n",
              "371  935  2019-03-19 02:35:50  433.661272\n",
              "372  936  2019-03-19 02:36:00  435.686429\n",
              "373  937  2019-03-19 02:36:10  444.585521\n",
              "374  938  2019-03-19 02:36:20  450.836415\n",
              "\n",
              "[375 rows x 3 columns]"
            ]
          },
          "metadata": {
            "tags": []
          },
          "execution_count": 747
        }
      ]
    },
    {
      "cell_type": "code",
      "metadata": {
        "id": "UjbCEt7gRo4h",
        "colab_type": "code",
        "colab": {}
      },
      "source": [
        "df_test['time'] = pd.to_datetime(df_test['time'])\n",
        "df_test['time'] = df_test['time'].dt.time\n",
        "new_time = df_test['time'].astype(str)\n",
        "time = new_time\n",
        "t = time.values.reshape(-1,1)\n",
        "t = t.reshape(375,1)\n",
        "P = time.astype(str)\n",
        "for i in range(0,375):\n",
        "  s = P[i]\n",
        "  U = s.replace('-', '').replace(':', '') \n",
        "  P[i] = U\n",
        "\n",
        "P = P.astype(str)\n",
        "df_test['time'] = P"
      ],
      "execution_count": 748,
      "outputs": []
    },
    {
      "cell_type": "code",
      "metadata": {
        "id": "wsOBpjCdRw4d",
        "colab_type": "code",
        "colab": {
          "base_uri": "https://localhost:8080/",
          "height": 419
        },
        "outputId": "251d6dc2-6662-4e63-cf39-416c84bdce65"
      },
      "source": [
        "c = df_test['feature_1'].mean()\n",
        "df_test['feature_1'] = df_test['feature_1'] / df_test['feature_1'].mean()\n",
        "df_test"
      ],
      "execution_count": 749,
      "outputs": [
        {
          "output_type": "execute_result",
          "data": {
            "text/html": [
              "<div>\n",
              "<style scoped>\n",
              "    .dataframe tbody tr th:only-of-type {\n",
              "        vertical-align: middle;\n",
              "    }\n",
              "\n",
              "    .dataframe tbody tr th {\n",
              "        vertical-align: top;\n",
              "    }\n",
              "\n",
              "    .dataframe thead th {\n",
              "        text-align: right;\n",
              "    }\n",
              "</style>\n",
              "<table border=\"1\" class=\"dataframe\">\n",
              "  <thead>\n",
              "    <tr style=\"text-align: right;\">\n",
              "      <th></th>\n",
              "      <th>id</th>\n",
              "      <th>time</th>\n",
              "      <th>feature_1</th>\n",
              "    </tr>\n",
              "  </thead>\n",
              "  <tbody>\n",
              "    <tr>\n",
              "      <th>0</th>\n",
              "      <td>564</td>\n",
              "      <td>013400</td>\n",
              "      <td>1.033541</td>\n",
              "    </tr>\n",
              "    <tr>\n",
              "      <th>1</th>\n",
              "      <td>565</td>\n",
              "      <td>013410</td>\n",
              "      <td>1.034222</td>\n",
              "    </tr>\n",
              "    <tr>\n",
              "      <th>2</th>\n",
              "      <td>566</td>\n",
              "      <td>013420</td>\n",
              "      <td>1.033827</td>\n",
              "    </tr>\n",
              "    <tr>\n",
              "      <th>3</th>\n",
              "      <td>567</td>\n",
              "      <td>013430</td>\n",
              "      <td>1.029171</td>\n",
              "    </tr>\n",
              "    <tr>\n",
              "      <th>4</th>\n",
              "      <td>568</td>\n",
              "      <td>013440</td>\n",
              "      <td>1.031451</td>\n",
              "    </tr>\n",
              "    <tr>\n",
              "      <th>...</th>\n",
              "      <td>...</td>\n",
              "      <td>...</td>\n",
              "      <td>...</td>\n",
              "    </tr>\n",
              "    <tr>\n",
              "      <th>370</th>\n",
              "      <td>934</td>\n",
              "      <td>023540</td>\n",
              "      <td>1.056085</td>\n",
              "    </tr>\n",
              "    <tr>\n",
              "      <th>371</th>\n",
              "      <td>935</td>\n",
              "      <td>023550</td>\n",
              "      <td>1.059430</td>\n",
              "    </tr>\n",
              "    <tr>\n",
              "      <th>372</th>\n",
              "      <td>936</td>\n",
              "      <td>023600</td>\n",
              "      <td>1.064377</td>\n",
              "    </tr>\n",
              "    <tr>\n",
              "      <th>373</th>\n",
              "      <td>937</td>\n",
              "      <td>023610</td>\n",
              "      <td>1.086118</td>\n",
              "    </tr>\n",
              "    <tr>\n",
              "      <th>374</th>\n",
              "      <td>938</td>\n",
              "      <td>023620</td>\n",
              "      <td>1.101389</td>\n",
              "    </tr>\n",
              "  </tbody>\n",
              "</table>\n",
              "<p>375 rows × 3 columns</p>\n",
              "</div>"
            ],
            "text/plain": [
              "      id    time  feature_1\n",
              "0    564  013400   1.033541\n",
              "1    565  013410   1.034222\n",
              "2    566  013420   1.033827\n",
              "3    567  013430   1.029171\n",
              "4    568  013440   1.031451\n",
              "..   ...     ...        ...\n",
              "370  934  023540   1.056085\n",
              "371  935  023550   1.059430\n",
              "372  936  023600   1.064377\n",
              "373  937  023610   1.086118\n",
              "374  938  023620   1.101389\n",
              "\n",
              "[375 rows x 3 columns]"
            ]
          },
          "metadata": {
            "tags": []
          },
          "execution_count": 749
        }
      ]
    },
    {
      "cell_type": "code",
      "metadata": {
        "id": "81Obv-_9Rzp7",
        "colab_type": "code",
        "colab": {}
      },
      "source": [
        "x_test = df_test.iloc[:,1:3].values\n",
        "x_test = x_test.reshape(375,1,2)"
      ],
      "execution_count": 750,
      "outputs": []
    },
    {
      "cell_type": "code",
      "metadata": {
        "id": "QMdxTCFbR3Dd",
        "colab_type": "code",
        "colab": {
          "base_uri": "https://localhost:8080/",
          "height": 419
        },
        "outputId": "d2bbf29a-1c62-4452-fafa-b1878318c998"
      },
      "source": [
        "y_pred = model.predict(x_test)\n",
        "df_test['feature_2'] = y_pred \n",
        "df_test['feature_1'] = df_test['feature_1'] * c\n",
        "df_test['feature_2'] = y_pred * b\n",
        "df_test"
      ],
      "execution_count": 751,
      "outputs": [
        {
          "output_type": "execute_result",
          "data": {
            "text/html": [
              "<div>\n",
              "<style scoped>\n",
              "    .dataframe tbody tr th:only-of-type {\n",
              "        vertical-align: middle;\n",
              "    }\n",
              "\n",
              "    .dataframe tbody tr th {\n",
              "        vertical-align: top;\n",
              "    }\n",
              "\n",
              "    .dataframe thead th {\n",
              "        text-align: right;\n",
              "    }\n",
              "</style>\n",
              "<table border=\"1\" class=\"dataframe\">\n",
              "  <thead>\n",
              "    <tr style=\"text-align: right;\">\n",
              "      <th></th>\n",
              "      <th>id</th>\n",
              "      <th>time</th>\n",
              "      <th>feature_1</th>\n",
              "      <th>feature_2</th>\n",
              "    </tr>\n",
              "  </thead>\n",
              "  <tbody>\n",
              "    <tr>\n",
              "      <th>0</th>\n",
              "      <td>564</td>\n",
              "      <td>013400</td>\n",
              "      <td>423.064004</td>\n",
              "      <td>73234.523438</td>\n",
              "    </tr>\n",
              "    <tr>\n",
              "      <th>1</th>\n",
              "      <td>565</td>\n",
              "      <td>013410</td>\n",
              "      <td>423.342749</td>\n",
              "      <td>73278.976562</td>\n",
              "    </tr>\n",
              "    <tr>\n",
              "      <th>2</th>\n",
              "      <td>566</td>\n",
              "      <td>013420</td>\n",
              "      <td>423.181186</td>\n",
              "      <td>73341.046875</td>\n",
              "    </tr>\n",
              "    <tr>\n",
              "      <th>3</th>\n",
              "      <td>567</td>\n",
              "      <td>013430</td>\n",
              "      <td>421.275243</td>\n",
              "      <td>73379.085938</td>\n",
              "    </tr>\n",
              "    <tr>\n",
              "      <th>4</th>\n",
              "      <td>568</td>\n",
              "      <td>013440</td>\n",
              "      <td>422.208444</td>\n",
              "      <td>73433.148438</td>\n",
              "    </tr>\n",
              "    <tr>\n",
              "      <th>...</th>\n",
              "      <td>...</td>\n",
              "      <td>...</td>\n",
              "      <td>...</td>\n",
              "      <td>...</td>\n",
              "    </tr>\n",
              "    <tr>\n",
              "      <th>370</th>\n",
              "      <td>934</td>\n",
              "      <td>023540</td>\n",
              "      <td>432.292203</td>\n",
              "      <td>125570.984375</td>\n",
              "    </tr>\n",
              "    <tr>\n",
              "      <th>371</th>\n",
              "      <td>935</td>\n",
              "      <td>023550</td>\n",
              "      <td>433.661272</td>\n",
              "      <td>125625.445312</td>\n",
              "    </tr>\n",
              "    <tr>\n",
              "      <th>372</th>\n",
              "      <td>936</td>\n",
              "      <td>023600</td>\n",
              "      <td>435.686429</td>\n",
              "      <td>125884.132812</td>\n",
              "    </tr>\n",
              "    <tr>\n",
              "      <th>373</th>\n",
              "      <td>937</td>\n",
              "      <td>023610</td>\n",
              "      <td>444.585521</td>\n",
              "      <td>125932.984375</td>\n",
              "    </tr>\n",
              "    <tr>\n",
              "      <th>374</th>\n",
              "      <td>938</td>\n",
              "      <td>023620</td>\n",
              "      <td>450.836415</td>\n",
              "      <td>126005.867188</td>\n",
              "    </tr>\n",
              "  </tbody>\n",
              "</table>\n",
              "<p>375 rows × 4 columns</p>\n",
              "</div>"
            ],
            "text/plain": [
              "      id    time   feature_1      feature_2\n",
              "0    564  013400  423.064004   73234.523438\n",
              "1    565  013410  423.342749   73278.976562\n",
              "2    566  013420  423.181186   73341.046875\n",
              "3    567  013430  421.275243   73379.085938\n",
              "4    568  013440  422.208444   73433.148438\n",
              "..   ...     ...         ...            ...\n",
              "370  934  023540  432.292203  125570.984375\n",
              "371  935  023550  433.661272  125625.445312\n",
              "372  936  023600  435.686429  125884.132812\n",
              "373  937  023610  444.585521  125932.984375\n",
              "374  938  023620  450.836415  126005.867188\n",
              "\n",
              "[375 rows x 4 columns]"
            ]
          },
          "metadata": {
            "tags": []
          },
          "execution_count": 751
        }
      ]
    },
    {
      "cell_type": "code",
      "metadata": {
        "id": "i1bAdWG2R6Jf",
        "colab_type": "code",
        "colab": {}
      },
      "source": [
        "y_pred_train = model.predict(x_train)"
      ],
      "execution_count": 752,
      "outputs": []
    },
    {
      "cell_type": "code",
      "metadata": {
        "id": "eg_PM0AjR-lh",
        "colab_type": "code",
        "colab": {
          "base_uri": "https://localhost:8080/",
          "height": 34
        },
        "outputId": "7af9d53c-85d4-4231-f854-9b8ade3121af"
      },
      "source": [
        "RMSE = np.sqrt(np.mean(np.square(y_pred_train - y_train)))\n",
        "print(\"Root Mean Square Error is \",RMSE)"
      ],
      "execution_count": 753,
      "outputs": [
        {
          "output_type": "stream",
          "text": [
            "Root Mean Square Error is  0.3840031876942803\n"
          ],
          "name": "stdout"
        }
      ]
    },
    {
      "cell_type": "code",
      "metadata": {
        "id": "gUflWXTlSBYn",
        "colab_type": "code",
        "colab": {}
      },
      "source": [
        ""
      ],
      "execution_count": 740,
      "outputs": []
    }
  ]
}